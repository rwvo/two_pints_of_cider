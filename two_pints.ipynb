{
 "cells": [
  {
   "cell_type": "markdown",
   "metadata": {},
   "source": [
    "## Two Pints of cider\n",
    "\n",
    "Solving the \"two pints of cider\" puzzle that Varun posted on Facebook by hand was too hard after drinking two pints of cider. So instead, I wrote a small Python program that solves the puzzle. To run it, click anywhere in the code below, and then press \"Shift-Enter\" (or \"Shift-Return\", if you are on a Mac)."
   ]
  },
  {
   "cell_type": "code",
   "execution_count": null,
   "metadata": {},
   "outputs": [],
   "source": [
    "import copy\n",
    "\n",
    "Capacities = [15, 10, 6]\n",
    "transitions = ((0,1), (0,2), (1,0), (1,2), (2,0), (2,1))\n",
    "max_len = 20\n",
    "\n",
    "def transfer(contents, frm, to):\n",
    "    amount = min(contents[frm], Capacities[to] - contents[to])\n",
    "    if amount == 0:\n",
    "        return None\n",
    "\n",
    "    new_contents = contents[:]\n",
    "    new_contents[frm] -= amount\n",
    "    new_contents[to] += amount\n",
    "\n",
    "    return new_contents\n",
    "\n",
    "def drink(containers, amount):\n",
    "    for i, content in enumerate(containers):\n",
    "        if content == amount:\n",
    "            containers[i] = 0\n",
    "            print('drink ' + str(amount))\n",
    "            return containers\n",
    "    return None\n",
    "\n",
    "def solve_dfs(history, is_valid_solution, shortest_solution):\n",
    "    if(len(history) >= 20):\n",
    "        return\n",
    "    last_contents = history[-1]\n",
    "    for frm, to in transitions:\n",
    "        new_contents = transfer(last_contents, frm, to)\n",
    "        if new_contents != None and new_contents not in history:\n",
    "            history.append(new_contents)\n",
    "            \n",
    "            if(is_valid_solution(new_contents)):\n",
    "                if shortest_solution[0] == None or len(history) < len(shortest_solution[0]):\n",
    "                    shortest_solution[0] = copy.deepcopy(history)\n",
    "            else:\n",
    "                solve_dfs(history, is_valid_solution, shortest_solution)\n",
    "\n",
    "            del history[-1]\n",
    "    \n",
    "def solve(start, is_valid_solution):\n",
    "    shortest_solution = [None]\n",
    "    solve_dfs([start], is_valid_solution, shortest_solution)\n",
    "    return shortest_solution[0]\n",
    "    \n",
    "result = solve([15,0,0], lambda contents: 2 in contents)\n",
    "print(result)\n",
    "\n",
    "after_drinking = drink(result[-1], 2)\n",
    "\n",
    "result = solve(after_drinking, lambda contents: contents[1] == 8 and contents[2] == 5)\n",
    "print(result)"
   ]
  }
 ],
 "metadata": {
  "kernelspec": {
   "display_name": "Python 3",
   "language": "python",
   "name": "python3"
  },
  "language_info": {
   "codemirror_mode": {
    "name": "ipython",
    "version": 3
   },
   "file_extension": ".py",
   "mimetype": "text/x-python",
   "name": "python",
   "nbconvert_exporter": "python",
   "pygments_lexer": "ipython3",
   "version": "3.6.3"
  }
 },
 "nbformat": 4,
 "nbformat_minor": 2
}
